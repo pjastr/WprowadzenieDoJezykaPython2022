{
 "cells": [
  {
   "cell_type": "code",
   "execution_count": 3,
   "metadata": {
    "collapsed": true
   },
   "outputs": [
    {
     "name": "stdout",
     "output_type": "stream",
     "text": [
      "8\n",
      "wyr1-algorytmq\n",
      "wyr2-            algorytmq\n",
      "wyr2-algorytm            q\n",
      "wyr2-               algorq\n",
      "wyr2-algor               q\n"
     ]
    }
   ],
   "source": [
    "zm1 = \"algorytm\"\n",
    "print(len(zm1))\n",
    "print(\"wyr1-%sq\" % zm1)\n",
    "print(\"wyr2-%20sq\" % zm1)\n",
    "print(\"wyr2-%-20sq\" % zm1)\n",
    "print(\"wyr2-%20.5sq\" % zm1)\n",
    "print(\"wyr2-%-20.5sq\" % zm1)"
   ]
  }
 ],
 "metadata": {
  "kernelspec": {
   "display_name": "Python 3",
   "language": "python",
   "name": "python3"
  },
  "language_info": {
   "codemirror_mode": {
    "name": "ipython",
    "version": 2
   },
   "file_extension": ".py",
   "mimetype": "text/x-python",
   "name": "python",
   "nbconvert_exporter": "python",
   "pygments_lexer": "ipython2",
   "version": "2.7.6"
  }
 },
 "nbformat": 4,
 "nbformat_minor": 0
}