{
 "cells": [
  {
   "cell_type": "code",
   "execution_count": 1,
   "metadata": {
    "collapsed": true
   },
   "outputs": [
    {
     "name": "stdout",
     "output_type": "stream",
     "text": [
      "wyr1 3.45\n"
     ]
    }
   ],
   "source": [
    "zm1 = 3.45\n",
    "zm2 = 87\n",
    "zm3 = \"R\"\n",
    "zm4 = 0.000000023\n",
    "zm5 = 213456355231\n",
    "zm6 = \"abc\"\n",
    "# %a jako napis\n",
    "print(\"wyr1 %a\" % zm1)"
   ]
  },
  {
   "cell_type": "code",
   "execution_count": 2,
   "outputs": [
    {
     "name": "stdout",
     "output_type": "stream",
     "text": [
      "wyr2 W\n",
      "wyr3 R\n"
     ]
    }
   ],
   "source": [
    "# %c jako znak\n",
    "print(\"wyr2 %c\" % zm2)\n",
    "print(\"wyr3 %c\" % zm3)"
   ],
   "metadata": {
    "collapsed": false,
    "pycharm": {
     "name": "#%%\n"
    }
   }
  },
  {
   "cell_type": "code",
   "execution_count": 3,
   "outputs": [
    {
     "name": "stdout",
     "output_type": "stream",
     "text": [
      "wyr4 87\n",
      "wyr5 87\n"
     ]
    }
   ],
   "source": [
    "# %d oraz %i dotyczą liczb całkowitych w systemie dziesiętnym\n",
    "print(\"wyr4 %d\" % zm2)\n",
    "print(\"wyr5 %i\" % zm2)"
   ],
   "metadata": {
    "collapsed": false,
    "pycharm": {
     "name": "#%%\n"
    }
   }
  },
  {
   "cell_type": "code",
   "execution_count": 4,
   "outputs": [
    {
     "name": "stdout",
     "output_type": "stream",
     "text": [
      "wyr6 3.450000e+00\n",
      "wyr7 3.450000E+00\n"
     ]
    }
   ],
   "source": [
    "# %e oraz %E to notacja wykładnicza dla float\n",
    "print(\"wyr6 %e\" % zm1)\n",
    "print(\"wyr7 %E\" % zm1)"
   ],
   "metadata": {
    "collapsed": false,
    "pycharm": {
     "name": "#%%\n"
    }
   }
  },
  {
   "cell_type": "code",
   "execution_count": 5,
   "outputs": [
    {
     "name": "stdout",
     "output_type": "stream",
     "text": [
      "wyr8 3.450000\n"
     ]
    }
   ],
   "source": [
    "# %f notacja dla float z wyrównanie domyślnie do 6 miejsc po przecinku\n",
    "print(\"wyr8 %f\" % zm1)"
   ],
   "metadata": {
    "collapsed": false,
    "pycharm": {
     "name": "#%%\n"
    }
   }
  },
  {
   "cell_type": "code",
   "execution_count": 7,
   "outputs": [
    {
     "name": "stdout",
     "output_type": "stream",
     "text": [
      "wyr9 3.45\n",
      "wyr10 2.3e-08\n",
      "wyr11 2.13456e+11\n"
     ]
    }
   ],
   "source": [
    "# %g oraz %G - format łączący %e i %f w zależności od zmiennej\n",
    "print(\"wyr9 %g\" % zm1)\n",
    "print(\"wyr10 %g\" % zm4)\n",
    "print(\"wyr11 %g\" % zm5)"
   ],
   "metadata": {
    "collapsed": false,
    "pycharm": {
     "name": "#%%\n"
    }
   }
  },
  {
   "cell_type": "code",
   "execution_count": 8,
   "outputs": [
    {
     "name": "stdout",
     "output_type": "stream",
     "text": [
      "wyr12 127\n"
     ]
    }
   ],
   "source": [
    "# %o (mała litera o) liczba całkowista w systeme ósemkowym\n",
    "print(\"wyr12 %o\" % zm2)"
   ],
   "metadata": {
    "collapsed": false,
    "pycharm": {
     "name": "#%%\n"
    }
   }
  },
  {
   "cell_type": "code",
   "execution_count": 11,
   "outputs": [
    {
     "name": "stdout",
     "output_type": "stream",
     "text": [
      "wyr13 'abc'\n"
     ]
    }
   ],
   "source": [
    "# %s do napisów\n",
    "print(\"wyr13 %r\" % zm6)"
   ],
   "metadata": {
    "collapsed": false,
    "pycharm": {
     "name": "#%%\n"
    }
   }
  },
  {
   "cell_type": "code",
   "execution_count": 14,
   "outputs": [
    {
     "name": "stdout",
     "output_type": "stream",
     "text": [
      "wyr14 6c\n",
      "wyr15 6C\n"
     ]
    }
   ],
   "source": [
    "# %0x oraz %0X to liczba całkowita w systemie szestnastkowym (procent zero x)\n",
    "print(\"wyr14 %x\" % 108)\n",
    "print(\"wyr15 %X\" % 108)"
   ],
   "metadata": {
    "collapsed": false,
    "pycharm": {
     "name": "#%%\n"
    }
   }
  }
 ],
 "metadata": {
  "kernelspec": {
   "display_name": "Python 3",
   "language": "python",
   "name": "python3"
  },
  "language_info": {
   "codemirror_mode": {
    "name": "ipython",
    "version": 2
   },
   "file_extension": ".py",
   "mimetype": "text/x-python",
   "name": "python",
   "nbconvert_exporter": "python",
   "pygments_lexer": "ipython2",
   "version": "2.7.6"
  }
 },
 "nbformat": 4,
 "nbformat_minor": 0
}