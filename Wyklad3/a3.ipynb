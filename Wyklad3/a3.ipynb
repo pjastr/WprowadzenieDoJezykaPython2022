{
 "cells": [
  {
   "cell_type": "code",
   "execution_count": 1,
   "metadata": {
    "collapsed": true
   },
   "outputs": [
    {
     "name": "stdout",
     "output_type": "stream",
     "text": [
      "zm1\n",
      "wyr1-442\n",
      "wyr2- 442\n"
     ]
    }
   ],
   "source": [
    "zm1 = 442\n",
    "zm2 = -567\n",
    "zm3 = 3\n",
    "print(\"zm1\")\n",
    "print(\"wyr1-%d\" % zm1)\n",
    "print(\"wyr2-% d\" % zm1)"
   ]
  },
  {
   "cell_type": "code",
   "execution_count": 2,
   "outputs": [
    {
     "name": "stdout",
     "output_type": "stream",
     "text": [
      "wyr3-442\n",
      "wyr4-    442\n"
     ]
    }
   ],
   "source": [
    "print(\"wyr3-%2d\" % zm1)\n",
    "print(\"wyr4-%7d\" % zm1)"
   ],
   "metadata": {
    "collapsed": false,
    "pycharm": {
     "name": "#%%\n"
    }
   }
  },
  {
   "cell_type": "code",
   "execution_count": 3,
   "outputs": [
    {
     "name": "stdout",
     "output_type": "stream",
     "text": [
      "wyr5-    442\n",
      "wyr6-0000442\n"
     ]
    }
   ],
   "source": [
    "print(\"wyr5-%7.2d\" % zm1)\n",
    "print(\"wyr6-%07d\" % zm1)"
   ],
   "metadata": {
    "collapsed": false,
    "pycharm": {
     "name": "#%%\n"
    }
   }
  },
  {
   "cell_type": "code",
   "execution_count": 6,
   "outputs": [
    {
     "name": "stdout",
     "output_type": "stream",
     "text": [
      "wyr7-0000442\n",
      "wyr8-54545454545*\n"
     ]
    }
   ],
   "source": [
    "print(\"wyr7-%07.2d\" % zm1)\n",
    "print(\"wyr8-%-8d*\" % 54545454545)"
   ],
   "metadata": {
    "collapsed": false,
    "pycharm": {
     "name": "#%%\n"
    }
   }
  },
  {
   "cell_type": "code",
   "execution_count": 8,
   "outputs": [
    {
     "name": "stdout",
     "output_type": "stream",
     "text": [
      "zm2\n",
      "wyr1:-567\n",
      "wyr2:-567\n"
     ]
    }
   ],
   "source": [
    "print(\"zm2\")\n",
    "print(\"wyr1:%d\" % zm2)\n",
    "print(\"wyr2:% d\" % zm2)"
   ],
   "metadata": {
    "collapsed": false,
    "pycharm": {
     "name": "#%%\n"
    }
   }
  },
  {
   "cell_type": "code",
   "execution_count": 9,
   "outputs": [
    {
     "name": "stdout",
     "output_type": "stream",
     "text": [
      "wyr3:-567\n",
      "wyr4:   -567\n"
     ]
    }
   ],
   "source": [
    "print(\"wyr3:%2d\" % zm2)\n",
    "print(\"wyr4:%7d\" % zm2)"
   ],
   "metadata": {
    "collapsed": false,
    "pycharm": {
     "name": "#%%\n"
    }
   }
  },
  {
   "cell_type": "code",
   "execution_count": 10,
   "outputs": [
    {
     "name": "stdout",
     "output_type": "stream",
     "text": [
      "wyr5:   -567\n",
      "wyr6:-000567\n"
     ]
    }
   ],
   "source": [
    "print(\"wyr5:%7.2d\" % zm2)\n",
    "print(\"wyr6:%07d\" % zm2)"
   ],
   "metadata": {
    "collapsed": false,
    "pycharm": {
     "name": "#%%\n"
    }
   }
  },
  {
   "cell_type": "code",
   "execution_count": 13,
   "outputs": [
    {
     "name": "stdout",
     "output_type": "stream",
     "text": [
      "wyr7:-000567\n",
      "wyr8:-567    *\n"
     ]
    }
   ],
   "source": [
    "print(\"wyr7:%07.2d\" % zm2)\n",
    "print(\"wyr8:%-8d*\" % zm2)"
   ],
   "metadata": {
    "collapsed": false,
    "pycharm": {
     "name": "#%%\n"
    }
   }
  },
  {
   "cell_type": "code",
   "execution_count": 14,
   "outputs": [
    {
     "name": "stdout",
     "output_type": "stream",
     "text": [
      "zm3\n",
      "wyr1-3\n",
      "wyr2- 3\n",
      "wyr3- 3\n",
      "wyr4-      3\n",
      "wyr5-     03\n",
      "wyr6-0000003\n",
      "wyr7-0000003\n",
      "wyr8-3       \n"
     ]
    }
   ],
   "source": [
    "print(\"zm3\")\n",
    "print(\"wyr1-%d\" % zm3)\n",
    "print(\"wyr2-% d\" % zm3)\n",
    "print(\"wyr3-%2d\" % zm3)\n",
    "print(\"wyr4-%7d\" % zm3)\n",
    "print(\"wyr5-%7.2d\" % zm3)\n",
    "print(\"wyr6-%07d\" % zm3)\n",
    "print(\"wyr7-%07.2d\" % zm3)\n",
    "print(\"wyr8-%-8d\" % zm3)"
   ],
   "metadata": {
    "collapsed": false,
    "pycharm": {
     "name": "#%%\n"
    }
   }
  }
 ],
 "metadata": {
  "kernelspec": {
   "display_name": "Python 3",
   "language": "python",
   "name": "python3"
  },
  "language_info": {
   "codemirror_mode": {
    "name": "ipython",
    "version": 2
   },
   "file_extension": ".py",
   "mimetype": "text/x-python",
   "name": "python",
   "nbconvert_exporter": "python",
   "pygments_lexer": "ipython2",
   "version": "2.7.6"
  }
 },
 "nbformat": 4,
 "nbformat_minor": 0
}