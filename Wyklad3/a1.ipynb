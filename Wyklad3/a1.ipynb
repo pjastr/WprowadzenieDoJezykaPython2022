{
 "cells": [
  {
   "cell_type": "code",
   "execution_count": 4,
   "metadata": {
    "collapsed": true,
    "pycharm": {
     "name": "#%%\n"
    }
   },
   "outputs": [
    {
     "name": "stdout",
     "output_type": "stream",
     "text": [
      "[4, 5, 100, 7.3, 9, -22, 23]\n",
      "[4, 5, -2, 7.3, 9, -22, 23]\n",
      "2339585715968\n",
      "2339585693376\n"
     ]
    }
   ],
   "source": [
    "a = [4, 5, -2, 7.3, 9, -22, 23]\n",
    "b = a.copy()\n",
    "b[2] = 100\n",
    "print(b)\n",
    "## [4, 5, 100, 7.3, 9, -22, 23]\n",
    "print(a)\n",
    "## [4, 5, 100, 7.3, 9, -22, 23]\n",
    "print(id(a))\n",
    "print(id(b))"
   ]
  },
  {
   "cell_type": "code",
   "execution_count": 6,
   "outputs": [
    {
     "name": "stdout",
     "output_type": "stream",
     "text": [
      "(3, 4, 6, 7, 7, 7, 3, 3, 4, 6, 7, 7, 7, 3)\n"
     ]
    }
   ],
   "source": [
    "krotka = 123, 'abc', True\n",
    "krotka2 = (123, 'abc', True)\n",
    "krotka3 = (3,4,6,7,7,7,3)\n",
    "w = krotka3*2\n",
    "print(w)"
   ],
   "metadata": {
    "collapsed": false,
    "pycharm": {
     "name": "#%%\n"
    }
   }
  },
  {
   "cell_type": "code",
   "execution_count": 12,
   "outputs": [
    {
     "name": "stdout",
     "output_type": "stream",
     "text": [
      "{'dwa', 'raz', 'osiem', 'trzy'}\n",
      "dwa\n",
      "raz\n",
      "osiem\n",
      "trzy\n"
     ]
    }
   ],
   "source": [
    "cyfry = {'raz', 'dwa', 'raz', 'trzy', 'raz', 'osiem'}\n",
    "print(cyfry)\n",
    "for x in cyfry:\n",
    "    print(x)"
   ],
   "metadata": {
    "collapsed": false,
    "pycharm": {
     "name": "#%%\n"
    }
   }
  },
  {
   "cell_type": "code",
   "execution_count": 13,
   "outputs": [
    {
     "name": "stdout",
     "output_type": "stream",
     "text": [
      "Olsztyn\n"
     ]
    },
    {
     "ename": "TypeError",
     "evalue": "'str' object does not support item assignment",
     "output_type": "error",
     "traceback": [
      "\u001B[1;31m---------------------------------------------------------------------------\u001B[0m",
      "\u001B[1;31mTypeError\u001B[0m                                 Traceback (most recent call last)",
      "Input \u001B[1;32mIn [13]\u001B[0m, in \u001B[0;36m<cell line: 3>\u001B[1;34m()\u001B[0m\n\u001B[0;32m      1\u001B[0m a \u001B[38;5;241m=\u001B[39m \u001B[38;5;124m\"\u001B[39m\u001B[38;5;124mOlsztyn\u001B[39m\u001B[38;5;124m\"\u001B[39m\n\u001B[0;32m      2\u001B[0m \u001B[38;5;28mprint\u001B[39m(a)\n\u001B[1;32m----> 3\u001B[0m a[\u001B[38;5;241m2\u001B[39m] \u001B[38;5;241m=\u001B[39m \u001B[38;5;124m\"\u001B[39m\u001B[38;5;124mW\u001B[39m\u001B[38;5;124m\"\u001B[39m\n",
      "\u001B[1;31mTypeError\u001B[0m: 'str' object does not support item assignment"
     ]
    }
   ],
   "source": [
    "a = \"Olsztyn\"\n",
    "print(a)\n",
    "a[2] = \"W\""
   ],
   "metadata": {
    "collapsed": false,
    "pycharm": {
     "name": "#%%\n"
    }
   }
  },
  {
   "cell_type": "code",
   "execution_count": 14,
   "outputs": [
    {
     "name": "stdout",
     "output_type": "stream",
     "text": [
      "260\n",
      "261\n"
     ]
    }
   ],
   "source": [
    "print(ord(\"Ą\"))\n",
    "print(ord(\"ą\"))"
   ],
   "metadata": {
    "collapsed": false,
    "pycharm": {
     "name": "#%%\n"
    }
   }
  }
 ],
 "metadata": {
  "kernelspec": {
   "display_name": "Python 3",
   "language": "python",
   "name": "python3"
  },
  "language_info": {
   "codemirror_mode": {
    "name": "ipython",
    "version": 2
   },
   "file_extension": ".py",
   "mimetype": "text/x-python",
   "name": "python",
   "nbconvert_exporter": "python",
   "pygments_lexer": "ipython2",
   "version": "2.7.6"
  }
 },
 "nbformat": 4,
 "nbformat_minor": 0
}