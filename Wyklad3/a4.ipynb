{
 "cells": [
  {
   "cell_type": "code",
   "execution_count": 1,
   "metadata": {
    "collapsed": true
   },
   "outputs": [
    {
     "name": "stdout",
     "output_type": "stream",
     "text": [
      "zm1\n",
      "wyr1-1234.891200\n",
      "wyr2-1234.891200\n"
     ]
    }
   ],
   "source": [
    "zm1 = 1234.8912\n",
    "zm2 = 1234e124\n",
    "print(\"zm1\")\n",
    "print(\"wyr1-%f\" % zm1)\n",
    "print(\"wyr2-%lf\" % zm1)"
   ]
  },
  {
   "cell_type": "code",
   "execution_count": 2,
   "outputs": [
    {
     "name": "stdout",
     "output_type": "stream",
     "text": [
      "wyr3-1234.89\n",
      "wyr4-1234.9\n"
     ]
    }
   ],
   "source": [
    "print(\"wyr3-%5.2f\" % zm1)\n",
    "print(\"wyr4-%3.1f\" % zm1)"
   ],
   "metadata": {
    "collapsed": false,
    "pycharm": {
     "name": "#%%\n"
    }
   }
  },
  {
   "cell_type": "code",
   "execution_count": 3,
   "outputs": [
    {
     "name": "stdout",
     "output_type": "stream",
     "text": [
      "wyr5-  1234.891\n",
      "wyr6- +1234.891\n"
     ]
    }
   ],
   "source": [
    "print(\"wyr5-%10.3f\" % zm1)\n",
    "print(\"wyr6-%+10.3f\" % zm1)"
   ],
   "metadata": {
    "collapsed": false,
    "pycharm": {
     "name": "#%%\n"
    }
   }
  },
  {
   "cell_type": "code",
   "execution_count": 4,
   "outputs": [
    {
     "name": "stdout",
     "output_type": "stream",
     "text": [
      "wyr7-0001234.89\n",
      "wyr8-0001.2e+03\n"
     ]
    }
   ],
   "source": [
    "print(\"wyr7-%010.2f\" % zm1)\n",
    "print(\"wyr8-%010.1e\" % zm1)"
   ],
   "metadata": {
    "collapsed": false,
    "pycharm": {
     "name": "#%%\n"
    }
   }
  },
  {
   "cell_type": "code",
   "execution_count": 6,
   "outputs": [
    {
     "name": "stdout",
     "output_type": "stream",
     "text": [
      "wyr9-0001.2E+03\n"
     ]
    }
   ],
   "source": [
    "print(\"wyr9-%010.1E\" % zm1)"
   ],
   "metadata": {
    "collapsed": false,
    "pycharm": {
     "name": "#%%\n"
    }
   }
  },
  {
   "cell_type": "code",
   "execution_count": 7,
   "outputs": [
    {
     "name": "stdout",
     "output_type": "stream",
     "text": [
      "zm2\n",
      "wyr1-12339999999999999388512301503175350233347430742248803093451783070538321050761192522211930488436544648815026303737422955862294528.000000\n",
      "wyr2-12339999999999999388512301503175350233347430742248803093451783070538321050761192522211930488436544648815026303737422955862294528.000000\n",
      "wyr3-12339999999999999388512301503175350233347430742248803093451783070538321050761192522211930488436544648815026303737422955862294528.00\n",
      "wyr4-12339999999999999388512301503175350233347430742248803093451783070538321050761192522211930488436544648815026303737422955862294528.0\n",
      "wyr5-12339999999999999388512301503175350233347430742248803093451783070538321050761192522211930488436544648815026303737422955862294528.000\n",
      "wyr6-+12339999999999999388512301503175350233347430742248803093451783070538321050761192522211930488436544648815026303737422955862294528.000\n",
      "wyr7-12339999999999999388512301503175350233347430742248803093451783070538321050761192522211930488436544648815026303737422955862294528.00\n",
      "wyr8-001.2e+127\n",
      "wyr9-001.2E+127\n"
     ]
    }
   ],
   "source": [
    "print(\"zm2\")\n",
    "print(\"wyr1-%f\" % zm2)\n",
    "print(\"wyr2-%lf\" % zm2)\n",
    "print(\"wyr3-%5.2f\" % zm2)\n",
    "print(\"wyr4-%3.1f\" % zm2)\n",
    "print(\"wyr5-%10.3f\" % zm2)\n",
    "print(\"wyr6-%+10.3f\" % zm2)\n",
    "print(\"wyr7-%010.2f\" % zm2)\n",
    "print(\"wyr8-%010.1e\" % zm2)\n",
    "print(\"wyr9-%010.1E\" % zm2)"
   ],
   "metadata": {
    "collapsed": false,
    "pycharm": {
     "name": "#%%\n"
    }
   }
  }
 ],
 "metadata": {
  "kernelspec": {
   "display_name": "Python 3",
   "language": "python",
   "name": "python3"
  },
  "language_info": {
   "codemirror_mode": {
    "name": "ipython",
    "version": 2
   },
   "file_extension": ".py",
   "mimetype": "text/x-python",
   "name": "python",
   "nbconvert_exporter": "python",
   "pygments_lexer": "ipython2",
   "version": "2.7.6"
  }
 },
 "nbformat": 4,
 "nbformat_minor": 0
}