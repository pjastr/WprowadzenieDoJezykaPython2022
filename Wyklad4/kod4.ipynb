{
 "cells": [
  {
   "cell_type": "code",
   "execution_count": 3,
   "metadata": {
    "collapsed": true
   },
   "outputs": [
    {
     "name": "stdout",
     "output_type": "stream",
     "text": [
      "kty\n"
     ]
    }
   ],
   "source": [
    "def printme(str):\n",
    "    print(str)\n",
    "    return\n",
    "\n",
    "\n",
    "printme('kty')"
   ]
  },
  {
   "cell_type": "code",
   "execution_count": 4,
   "outputs": [
    {
     "name": "stdout",
     "output_type": "stream",
     "text": [
      "16\n"
     ]
    }
   ],
   "source": [
    "def kwadrat(a):\n",
    "    return a*a\n",
    "\n",
    "\n",
    "print(kwadrat(a=4))"
   ],
   "metadata": {
    "collapsed": false,
    "pycharm": {
     "name": "#%%\n"
    }
   }
  },
  {
   "cell_type": "code",
   "execution_count": 9,
   "outputs": [
    {
     "name": "stdout",
     "output_type": "stream",
     "text": [
      "7\n"
     ]
    }
   ],
   "source": [
    "def suma(a, b):\n",
    "    return a-b\n",
    "\n",
    "\n",
    "print(suma(a=5,b=2))"
   ],
   "metadata": {
    "collapsed": false,
    "pycharm": {
     "name": "#%%\n"
    }
   }
  },
  {
   "cell_type": "code",
   "execution_count": 15,
   "outputs": [
    {
     "ename": "SyntaxError",
     "evalue": "positional argument follows keyword argument (2618098761.py, line 7)",
     "output_type": "error",
     "traceback": [
      "\u001B[1;36m  Input \u001B[1;32mIn [15]\u001B[1;36m\u001B[0m\n\u001B[1;33m    print(sumsub(1,b=2,3))\u001B[0m\n\u001B[1;37m                       ^\u001B[0m\n\u001B[1;31mSyntaxError\u001B[0m\u001B[1;31m:\u001B[0m positional argument follows keyword argument\n"
     ]
    }
   ],
   "source": [
    "def sumsub(a, b, c=0, d=4):\n",
    "    return a - b + c - d\n",
    "\n",
    "\n",
    "print(sumsub(12, 4))\n",
    "print(sumsub(3, 4, 5, 7))\n",
    "print(sumsub(1,2,d=3))"
   ],
   "metadata": {
    "collapsed": false,
    "pycharm": {
     "name": "#%%\n"
    }
   }
  },
  {
   "cell_type": "code",
   "execution_count": 17,
   "outputs": [
    {
     "name": "stdout",
     "output_type": "stream",
     "text": [
      "3.75\n",
      "4.0\n"
     ]
    }
   ],
   "source": [
    "def srednia(first, *values):\n",
    "    return (first + sum(values)) / (1 + len(values))\n",
    "\n",
    "\n",
    "print(srednia(2, 3, 4, 6))\n",
    "print(srednia(4))"
   ],
   "metadata": {
    "collapsed": false,
    "pycharm": {
     "name": "#%%\n"
    }
   }
  },
  {
   "cell_type": "code",
   "execution_count": 20,
   "outputs": [
    {
     "name": "stdout",
     "output_type": "stream",
     "text": [
      "4.5\n"
     ]
    },
    {
     "ename": "ZeroDivisionError",
     "evalue": "division by zero",
     "output_type": "error",
     "traceback": [
      "\u001B[1;31m---------------------------------------------------------------------------\u001B[0m",
      "\u001B[1;31mZeroDivisionError\u001B[0m                         Traceback (most recent call last)",
      "Input \u001B[1;32mIn [20]\u001B[0m, in \u001B[0;36m<cell line: 6>\u001B[1;34m()\u001B[0m\n\u001B[0;32m      2\u001B[0m     \u001B[38;5;28;01mreturn\u001B[39;00m \u001B[38;5;28msum\u001B[39m(values)\u001B[38;5;241m/\u001B[39m\u001B[38;5;28mlen\u001B[39m(values)\n\u001B[0;32m      5\u001B[0m \u001B[38;5;28mprint\u001B[39m(srednia2(\u001B[38;5;241m4\u001B[39m,\u001B[38;5;241m5\u001B[39m))\n\u001B[1;32m----> 6\u001B[0m \u001B[38;5;28mprint\u001B[39m(\u001B[43msrednia2\u001B[49m\u001B[43m(\u001B[49m\u001B[43m)\u001B[49m)\n",
      "Input \u001B[1;32mIn [20]\u001B[0m, in \u001B[0;36msrednia2\u001B[1;34m(*values)\u001B[0m\n\u001B[0;32m      1\u001B[0m \u001B[38;5;28;01mdef\u001B[39;00m \u001B[38;5;21msrednia2\u001B[39m(\u001B[38;5;241m*\u001B[39mvalues):\n\u001B[1;32m----> 2\u001B[0m     \u001B[38;5;28;01mreturn\u001B[39;00m \u001B[38;5;28;43msum\u001B[39;49m\u001B[43m(\u001B[49m\u001B[43mvalues\u001B[49m\u001B[43m)\u001B[49m\u001B[38;5;241;43m/\u001B[39;49m\u001B[38;5;28;43mlen\u001B[39;49m\u001B[43m(\u001B[49m\u001B[43mvalues\u001B[49m\u001B[43m)\u001B[49m\n",
      "\u001B[1;31mZeroDivisionError\u001B[0m: division by zero"
     ]
    }
   ],
   "source": [
    "def srednia2(*values):\n",
    "    return sum(values)/len(values)\n",
    "\n",
    "\n",
    "print(srednia2(4,5))\n",
    "print(srednia2())"
   ],
   "metadata": {
    "collapsed": false,
    "pycharm": {
     "name": "#%%\n"
    }
   }
  }
 ],
 "metadata": {
  "kernelspec": {
   "display_name": "Python 3",
   "language": "python",
   "name": "python3"
  },
  "language_info": {
   "codemirror_mode": {
    "name": "ipython",
    "version": 2
   },
   "file_extension": ".py",
   "mimetype": "text/x-python",
   "name": "python",
   "nbconvert_exporter": "python",
   "pygments_lexer": "ipython2",
   "version": "2.7.6"
  }
 },
 "nbformat": 4,
 "nbformat_minor": 0
}