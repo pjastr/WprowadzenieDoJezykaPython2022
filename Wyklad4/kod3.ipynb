{
 "cells": [
  {
   "cell_type": "code",
   "execution_count": 2,
   "metadata": {
    "collapsed": true
   },
   "outputs": [
    {
     "name": "stdout",
     "output_type": "stream",
     "text": [
      "1  140714249426992\n",
      "Przed: 10\n",
      "2  140714249426992\n",
      "3  140714249426832\n",
      "w środku: 5\n",
      "4  140714249426992\n",
      "Po: 10\n"
     ]
    }
   ],
   "source": [
    "def funkcja(a):\n",
    "    print(\"2 \",id(a))\n",
    "    a = 5\n",
    "    print(\"3 \",id(a))\n",
    "    print(\"w środku:\", a)\n",
    "\n",
    "\n",
    "a = 10\n",
    "print(\"1 \",id(a))\n",
    "print(\"Przed:\", a)\n",
    "funkcja(a)\n",
    "print(\"4 \",id(a))\n",
    "print(\"Po:\", a)"
   ]
  },
  {
   "cell_type": "code",
   "execution_count": 3,
   "outputs": [
    {
     "name": "stdout",
     "output_type": "stream",
     "text": [
      "Przed zmianą:  [10, 20, 30]\n",
      "Po zmianie:  [10, 20, 50]\n",
      "Poza funkcją:  [10, 20, 50]\n"
     ]
    }
   ],
   "source": [
    "def changeme(lista):\n",
    "    print(\"Przed zmianą: \", lista)\n",
    "    lista[2] = 50\n",
    "    print(\"Po zmianie: \", lista)\n",
    "    return\n",
    "\n",
    "\n",
    "mylist = [10, 20, 30]\n",
    "changeme(mylist)\n",
    "print(\"Poza funkcją: \", mylist)\n"
   ],
   "metadata": {
    "collapsed": false,
    "pycharm": {
     "name": "#%%\n"
    }
   }
  },
  {
   "cell_type": "code",
   "execution_count": 4,
   "outputs": [
    {
     "name": "stdout",
     "output_type": "stream",
     "text": [
      "Wewnątrz funkcji:  [2, 3, 4]\n",
      "Poza funkcją:  [10, 20, 30]\n"
     ]
    }
   ],
   "source": [
    "def changeme(lista):\n",
    "    lista = [2, 3, 4]\n",
    "    print(\"Wewnątrz funkcji: \", lista)\n",
    "    return\n",
    "\n",
    "\n",
    "lista = [10, 20, 30]\n",
    "changeme(lista)\n",
    "print(\"Poza funkcją: \", lista)"
   ],
   "metadata": {
    "collapsed": false,
    "pycharm": {
     "name": "#%%\n"
    }
   }
  },
  {
   "cell_type": "code",
   "execution_count": 6,
   "outputs": [
    {
     "name": "stdout",
     "output_type": "stream",
     "text": [
      "Wewnątrz funkcji:  [2, 3, 4]\n",
      "Poza funkcją:  [2, 3, 4]\n"
     ]
    }
   ],
   "source": [
    "def changeme():\n",
    "    global lista\n",
    "    lista = [2, 3, 4]\n",
    "    print(\"Wewnątrz funkcji: \", lista)\n",
    "    return\n",
    "\n",
    "\n",
    "changeme()\n",
    "print(\"Poza funkcją: \", lista)\n"
   ],
   "metadata": {
    "collapsed": false,
    "pycharm": {
     "name": "#%%\n"
    }
   }
  }
 ],
 "metadata": {
  "kernelspec": {
   "display_name": "Python 3",
   "language": "python",
   "name": "python3"
  },
  "language_info": {
   "codemirror_mode": {
    "name": "ipython",
    "version": 2
   },
   "file_extension": ".py",
   "mimetype": "text/x-python",
   "name": "python",
   "nbconvert_exporter": "python",
   "pygments_lexer": "ipython2",
   "version": "2.7.6"
  }
 },
 "nbformat": 4,
 "nbformat_minor": 0
}