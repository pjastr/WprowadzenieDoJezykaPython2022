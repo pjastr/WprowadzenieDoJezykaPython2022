{
 "cells": [
  {
   "cell_type": "code",
   "execution_count": 1,
   "metadata": {
    "collapsed": true
   },
   "outputs": [],
   "source": [
    "import math\n",
    "\n",
    "t=math.sqrt(5)"
   ]
  },
  {
   "cell_type": "code",
   "execution_count": 7,
   "outputs": [
    {
     "name": "stdout",
     "output_type": "stream",
     "text": [
      "16\n",
      "(-7+24j)\n",
      "1\n"
     ]
    }
   ],
   "source": [
    "def kwadrat(a):\n",
    "    return a ** 2\n",
    "\n",
    "\n",
    "print(kwadrat(4))\n",
    "print(kwadrat(3+4j))\n",
    "print(kwadrat(True))\n",
    "# print(kwadrat('wer'))"
   ],
   "metadata": {
    "collapsed": false,
    "pycharm": {
     "name": "#%%\n"
    }
   }
  },
  {
   "cell_type": "code",
   "execution_count": 9,
   "outputs": [
    {
     "name": "stdout",
     "output_type": "stream",
     "text": [
      "<function kwadrat at 0x000001229FA949D0>\n"
     ]
    }
   ],
   "source": [
    "def kwadrat(a):\n",
    "    return a ** 2\n",
    "\n",
    "\n",
    "print(kwadrat)"
   ],
   "metadata": {
    "collapsed": false,
    "pycharm": {
     "name": "#%%\n"
    }
   }
  },
  {
   "cell_type": "code",
   "execution_count": 12,
   "outputs": [
    {
     "name": "stdout",
     "output_type": "stream",
     "text": [
      "<class 'function'>\n",
      "1248217525120\n"
     ]
    }
   ],
   "source": [
    "def kwadrat(a):\n",
    "    return a ** 2\n",
    "\n",
    "\n",
    "b= kwadrat\n",
    "print(type(b))\n",
    "print(id(b))\n",
    "kwadrat.w = 45"
   ],
   "metadata": {
    "collapsed": false,
    "pycharm": {
     "name": "#%%\n"
    }
   }
  },
  {
   "cell_type": "code",
   "execution_count": 14,
   "outputs": [
    {
     "name": "stdout",
     "output_type": "stream",
     "text": [
      "28.09\n"
     ]
    }
   ],
   "source": [
    "def kwadrat(a:int) -> int:\n",
    "    return a ** 2\n",
    "\n",
    "\n",
    "print(kwadrat(5.3))"
   ],
   "metadata": {
    "collapsed": false,
    "pycharm": {
     "name": "#%%\n"
    }
   }
  },
  {
   "cell_type": "code",
   "execution_count": 16,
   "outputs": [
    {
     "name": "stdout",
     "output_type": "stream",
     "text": [
      "16\n",
      "None\n"
     ]
    }
   ],
   "source": [
    "def kwadrat(a):\n",
    "    print(a ** 2)\n",
    "\n",
    "\n",
    "kwadrat(4)\n"
   ],
   "metadata": {
    "collapsed": false,
    "pycharm": {
     "name": "#%%\n"
    }
   }
  }
 ],
 "metadata": {
  "kernelspec": {
   "display_name": "Python 3",
   "language": "python",
   "name": "python3"
  },
  "language_info": {
   "codemirror_mode": {
    "name": "ipython",
    "version": 2
   },
   "file_extension": ".py",
   "mimetype": "text/x-python",
   "name": "python",
   "nbconvert_exporter": "python",
   "pygments_lexer": "ipython2",
   "version": "2.7.6"
  }
 },
 "nbformat": 4,
 "nbformat_minor": 0
}